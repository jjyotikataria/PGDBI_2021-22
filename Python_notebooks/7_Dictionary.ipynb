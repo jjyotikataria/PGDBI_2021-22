{
  "cells": [
    {
      "cell_type": "code",
      "execution_count": null,
      "metadata": {
        "collapsed": true,
        "id": "Edo8jL_nH82h"
      },
      "outputs": [],
      "source": [
        "#Creating a dictionary\n",
        "\n",
        "marks={'history':45,'Geography':54,'Hindi':56}"
      ]
    },
    {
      "cell_type": "code",
      "source": [
        "marks=[2,3,4]\n",
        "0.2\n",
        "0.3\n",
        "0.4\n",
        "\n",
        "\n",
        "for x in marks:\n",
        "  print(\"Division by 10\")\n",
        "  print(mark/10)\n",
        "  print(\"Addition of 20\")\n",
        "  print(mark+20)\n",
        "  print(mark*30)"
      ],
      "metadata": {
        "colab": {
          "base_uri": "https://localhost:8080/"
        },
        "id": "8G2nzptAICV5",
        "outputId": "857f792d-bf23-49de-8c90-23182ac8e0dd"
      },
      "execution_count": null,
      "outputs": [
        {
          "output_type": "stream",
          "name": "stdout",
          "text": [
            "Division by 10\n",
            "0.2\n",
            "22\n",
            "60\n",
            "Division by 10\n",
            "0.3\n",
            "23\n",
            "90\n",
            "Division by 10\n",
            "0.4\n",
            "24\n",
            "120\n"
          ]
        }
      ]
    },
    {
      "cell_type": "code",
      "execution_count": null,
      "metadata": {
        "id": "gSZOJrReH82k",
        "outputId": "f9b15668-5ab2-4ce9-aacf-8efd7f6a1d59"
      },
      "outputs": [
        {
          "data": {
            "text/plain": [
              "{'Geography': 54, 'Hindi': 56, 'history': 45}"
            ]
          },
          "execution_count": 2,
          "metadata": {},
          "output_type": "execute_result"
        }
      ],
      "source": [
        "marks"
      ]
    },
    {
      "cell_type": "code",
      "execution_count": null,
      "metadata": {
        "id": "EfnQWCL7H82l",
        "outputId": "a3989c1b-a527-49ee-8e13-9f33a70004bf"
      },
      "outputs": [
        {
          "data": {
            "text/plain": [
              "54"
            ]
          },
          "execution_count": 3,
          "metadata": {},
          "output_type": "execute_result"
        }
      ],
      "source": [
        "# access elements\n",
        "\n",
        "marks['Geography']"
      ]
    },
    {
      "cell_type": "code",
      "execution_count": null,
      "metadata": {
        "collapsed": true,
        "id": "yKe8jaQaH82m"
      },
      "outputs": [],
      "source": [
        "#adding elements\n",
        "\n",
        "marks['english']=47"
      ]
    },
    {
      "cell_type": "code",
      "execution_count": null,
      "metadata": {
        "id": "HEg0k86VH82m",
        "outputId": "161fe2df-8aaa-4f3f-b703-14849d10328d"
      },
      "outputs": [
        {
          "data": {
            "text/plain": [
              "{'Geography': 54, 'Hindi': 56, 'english': 47, 'history': 45}"
            ]
          },
          "execution_count": 5,
          "metadata": {},
          "output_type": "execute_result"
        }
      ],
      "source": [
        "marks"
      ]
    },
    {
      "cell_type": "code",
      "execution_count": null,
      "metadata": {
        "collapsed": true,
        "id": "XSKwaDWEH82n"
      },
      "outputs": [],
      "source": [
        "marks.update({'Chemistry':89,'Physics':98})"
      ]
    },
    {
      "cell_type": "code",
      "execution_count": null,
      "metadata": {
        "id": "iaFod6ikH82o",
        "outputId": "229ec012-2efc-46ce-93fa-80293b66d12e"
      },
      "outputs": [
        {
          "data": {
            "text/plain": [
              "{'Chemistry': 89,\n",
              " 'Geography': 54,\n",
              " 'Hindi': 56,\n",
              " 'Physics': 98,\n",
              " 'english': 47,\n",
              " 'history': 45}"
            ]
          },
          "execution_count": 7,
          "metadata": {},
          "output_type": "execute_result"
        }
      ],
      "source": [
        "marks"
      ]
    },
    {
      "cell_type": "code",
      "execution_count": null,
      "metadata": {
        "id": "1oeYjtrPH82p"
      },
      "outputs": [],
      "source": [
        "del marks['Hindi']"
      ]
    },
    {
      "cell_type": "code",
      "execution_count": null,
      "metadata": {
        "id": "rwhp1i3FH82p",
        "outputId": "d4aec36f-e591-4b9d-e673-b3c1a00be8c1"
      },
      "outputs": [
        {
          "data": {
            "text/plain": [
              "{'Chemistry': 89, 'Geography': 54, 'Physics': 98, 'english': 47, 'history': 45}"
            ]
          },
          "execution_count": 10,
          "metadata": {},
          "output_type": "execute_result"
        }
      ],
      "source": [
        "marks"
      ]
    },
    {
      "cell_type": "code",
      "execution_count": null,
      "metadata": {
        "collapsed": true,
        "colab": {
          "base_uri": "https://localhost:8080/"
        },
        "id": "kZah2ApOH82q",
        "outputId": "0e029e2e-8f52-4feb-e755-2f27fea1230b"
      },
      "outputs": [
        {
          "output_type": "stream",
          "name": "stdout",
          "text": [
            "{'Mon': 2, 'Tue': 4, 'Wed': 3, 'Thu': 6}\n",
            "{'Mon': 2, 'Tue': 4}\n"
          ]
        }
      ],
      "source": [
        "d = {'Mon':2 , 'Tue':4 ,'Wed':3 ,'Thu':6}\n",
        "print(d)\n",
        "del d['Wed']\n",
        "del d['Thu']\n",
        "print(d)"
      ]
    },
    {
      "cell_type": "code",
      "source": [
        ""
      ],
      "metadata": {
        "id": "c_uSQ1rkJsop"
      },
      "execution_count": null,
      "outputs": []
    }
  ],
  "metadata": {
    "kernelspec": {
      "display_name": "Python 3",
      "language": "python",
      "name": "python3"
    },
    "language_info": {
      "codemirror_mode": {
        "name": "ipython",
        "version": 3
      },
      "file_extension": ".py",
      "mimetype": "text/x-python",
      "name": "python",
      "nbconvert_exporter": "python",
      "pygments_lexer": "ipython3",
      "version": "3.7.0"
    },
    "colab": {
      "name": "7_Dictionary.ipynb",
      "provenance": []
    }
  },
  "nbformat": 4,
  "nbformat_minor": 0
}
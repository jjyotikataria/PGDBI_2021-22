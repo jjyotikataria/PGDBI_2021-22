{
  "cells": [
    {
      "cell_type": "markdown",
      "metadata": {
        "id": "iyDZg_aE83rI"
      },
      "source": [
        "# Problem 1 : Take a variable x and print \"Even\" if the number is divisible by 2, otherwise print \"Odd\"."
      ]
    },
    {
      "cell_type": "code",
      "execution_count": null,
      "metadata": {
        "id": "Jm8jZrdN83rM"
      },
      "outputs": [],
      "source": [
        "== comparison operator\n",
        "\n",
        "## In python, indentation is a must!\n",
        "{\n",
        "    \n",
        "    {\n",
        "        {\n",
        "            \n",
        "        }\n",
        "    }\n",
        "}\n",
        "\n",
        "\n",
        "## Pseudocode (rough code)\n",
        "number=int(input(\"Enter the number\"))\n",
        "\n",
        "logic=statement\n",
        "\n",
        "if (division by 2 gives remainder ==0) :\n",
        "  print(Even)\n",
        "else:\n",
        "  print(odd)\n",
        "\n"
      ]
    },
    {
      "cell_type": "code",
      "execution_count": null,
      "metadata": {
        "id": "q8OLhUwq83rN",
        "outputId": "2b3509bf-16dc-4b80-eb92-d783bb3541f3"
      },
      "outputs": [
        {
          "name": "stdout",
          "output_type": "stream",
          "text": [
            "Even\n"
          ]
        }
      ],
      "source": [
        "x = int(input(\"Enter the number to check\"))\n",
        "\n",
        "if(x%2 == 0):\n",
        "    print(\"Even\")\n",
        "else:\n",
        "    print(\"Odd\")"
      ]
    },
    {
      "cell_type": "code",
      "source": [
        "vallari=input(\"Enter the number\")\n",
        "\n",
        "type(vallari)\n",
        "\n",
        "if\n",
        "elif number > 60 and number <= 90\n",
        "elif..\n",
        "else\n",
        "\n",
        "\n",
        "if\n",
        "else"
      ],
      "metadata": {
        "colab": {
          "base_uri": "https://localhost:8080/"
        },
        "id": "7rHsxZZ--_bt",
        "outputId": "ed8bf259-33f9-4e86-f768-4ffb37b4b7d7"
      },
      "execution_count": null,
      "outputs": [
        {
          "name": "stdout",
          "output_type": "stream",
          "text": [
            "Enter the number12\n"
          ]
        },
        {
          "output_type": "execute_result",
          "data": {
            "text/plain": [
              "str"
            ]
          },
          "metadata": {},
          "execution_count": 1
        }
      ]
    },
    {
      "cell_type": "code",
      "source": [
        "y=int(input(\"Enter the number\"))\n",
        "if(y>90):\n",
        "   print(\"Grade A\")\n",
        "elif(y>60 and y<=90):\n",
        "   print(\"Grade B\")\n",
        "else:\n",
        "   print(\"Grade F\")\n",
        "\n",
        "\n"
      ],
      "metadata": {
        "colab": {
          "base_uri": "https://localhost:8080/"
        },
        "id": "iai7jSDEAaYV",
        "outputId": "54a42eb5-79f4-4b5b-df2b-667d547239ed"
      },
      "execution_count": null,
      "outputs": [
        {
          "output_type": "stream",
          "name": "stdout",
          "text": [
            "Enter the number20\n",
            "Grade F\n"
          ]
        }
      ]
    },
    {
      "cell_type": "markdown",
      "metadata": {
        "id": "pSjhSpZb83rP"
      },
      "source": [
        "# Problem 2 : Take a variable y and print \"Grade A\" if y is greater than 90, \"Grade B\" if y is greater than 60 but less than or equal to 90 and \"Grade F\" Otherwise."
      ]
    },
    {
      "cell_type": "code",
      "execution_count": null,
      "metadata": {
        "id": "KYqr7Tg083rP"
      },
      "outputs": [],
      "source": [
        "y = 32\n",
        "\n",
        "if(y > 90):\n",
        "    print(\"Grade A\")\n",
        "    \n",
        "elif()\n",
        "\n",
        "else:    "
      ]
    },
    {
      "cell_type": "code",
      "execution_count": null,
      "metadata": {
        "id": "MPDczrj683rP"
      },
      "outputs": [],
      "source": [
        ""
      ]
    },
    {
      "cell_type": "code",
      "execution_count": null,
      "metadata": {
        "id": "sMGMBsdJ83rQ",
        "outputId": "54cad97f-878b-4fc0-f096-c424ee43cd11"
      },
      "outputs": [
        {
          "name": "stdout",
          "output_type": "stream",
          "text": [
            "Grade F\n"
          ]
        }
      ],
      "source": [
        "y=32\n",
        "\n",
        "if(y>90):\n",
        "    print(\"Grade A\")\n",
        "elif(y>60):\n",
        "    print(\"Grade B\")\n",
        "else:\n",
        "    print(\"Grade F\")"
      ]
    },
    {
      "cell_type": "code",
      "execution_count": null,
      "metadata": {
        "id": "j3AP7OUV83rQ",
        "outputId": "06718322-7218-4c0c-ed70-5abefecbb097"
      },
      "outputs": [
        {
          "name": "stdout",
          "output_type": "stream",
          "text": [
            "Grade F\n"
          ]
        }
      ],
      "source": [
        "y=32\n",
        "\n",
        "if (y > 90):\n",
        "    print (\"Grade A\")\n",
        "elif (y>60):\n",
        "    print (\"Grade B\")\n",
        "else:\n",
        "    print (\"Grade F\")"
      ]
    },
    {
      "cell_type": "code",
      "execution_count": null,
      "metadata": {
        "id": "JtlWiFni83rR"
      },
      "outputs": [],
      "source": [
        ""
      ]
    }
  ],
  "metadata": {
    "kernelspec": {
      "display_name": "Python 3",
      "language": "python",
      "name": "python3"
    },
    "language_info": {
      "codemirror_mode": {
        "name": "ipython",
        "version": 3
      },
      "file_extension": ".py",
      "mimetype": "text/x-python",
      "name": "python",
      "nbconvert_exporter": "python",
      "pygments_lexer": "ipython3",
      "version": "3.7.0"
    },
    "colab": {
      "name": "3_conditionals.ipynb",
      "provenance": []
    }
  },
  "nbformat": 4,
  "nbformat_minor": 0
}
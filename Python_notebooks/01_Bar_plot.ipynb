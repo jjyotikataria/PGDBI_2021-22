{
  "cells": [
    {
      "cell_type": "markdown",
      "metadata": {
        "id": "qxiIpqtgmqyW"
      },
      "source": [
        "## Visualisation in Python - Matplotlib\n",
        "\n",
        "### Bar Plot"
      ]
    },
    {
      "cell_type": "code",
      "execution_count": null,
      "metadata": {
        "id": "1QNKoX_Tmqyj"
      },
      "outputs": [],
      "source": [
        "# Importing libraries\n",
        "\n",
        "import numpy as np\n",
        "import pandas as pd\n",
        "import matplotlib.pyplot as plt\n",
        "%matplotlib inline"
      ]
    },
    {
      "cell_type": "code",
      "execution_count": null,
      "metadata": {
        "id": "q5dEInzSmqym",
        "outputId": "d845f6f3-36be-4297-d19a-ac2aa3a783bb"
      },
      "outputs": [
        {
          "data": {
            "text/plain": [
              "array(['Furniture', 'Office Supplies', 'Technology'], dtype='<U15')"
            ]
          },
          "execution_count": 17,
          "metadata": {},
          "output_type": "execute_result"
        }
      ],
      "source": [
        "# Creating an array with product categories\n",
        "\n",
        "pro_categ = np.array([\"Furniture\",\"Office Supplies\",\"Technology\"])\n",
        "pro_categ"
      ]
    },
    {
      "cell_type": "code",
      "execution_count": null,
      "metadata": {
        "id": "VqWKIsEsmqyq",
        "outputId": "ad041227-f32a-4421-ede7-95378a4c6c32"
      },
      "outputs": [
        {
          "data": {
            "text/plain": [
              "array([4110451.9 , 4744557.5 , 3787492.52])"
            ]
          },
          "execution_count": 18,
          "metadata": {},
          "output_type": "execute_result"
        }
      ],
      "source": [
        "# Creating an array with the sales amount\n",
        "# Furniture: 4110451.90\n",
        "# Technology: 4744557.50\n",
        "# Office Supplies: 3787492.52\n",
        "\n",
        "sales=np.array([4110451.90,4744557.50,3787492.52])\n",
        "\n",
        "sales"
      ]
    },
    {
      "cell_type": "markdown",
      "metadata": {
        "id": "1cvbTJ3bmqys"
      },
      "source": [
        "It is not necessary that you are provided with the aggregated values every time. In such cases, you first need to calculate the values and then build the graphs.\n",
        "\n",
        "Let's see how to plot a bar graph for the provided values. "
      ]
    },
    {
      "cell_type": "markdown",
      "metadata": {
        "id": "W7-7Nem6mqyt"
      },
      "source": [
        "### Bar Graph: Plotting sales across each product category"
      ]
    },
    {
      "cell_type": "markdown",
      "metadata": {
        "id": "xMx4Yi1mmqyu"
      },
      "source": [
        "- A bar chart uses bars to show comparisons between categories of data.\n",
        "\n",
        "- One axis will generally have numerical values or measures, \n",
        "- The other will describe the types of categories being compared or dimensions.\n",
        "\n",
        "Let's start with plotting a bar graph representing the sales across different categories over the period."
      ]
    },
    {
      "cell_type": "code",
      "execution_count": null,
      "metadata": {
        "id": "JjT6_Woomqyy",
        "outputId": "e525138a-ca88-484b-b56f-de6eb3ad59d4"
      },
      "outputs": [
        {
          "data": {
            "image/png": "[encoded data removed]",
            "text/plain": [
              "<Figure size 432x288 with 1 Axes>"
            ]
          },
          "metadata": {
            "needs_background": "light"
          },
          "output_type": "display_data"
        }
      ],
      "source": [
        "# plotting the bar graph with product categories on x-axis and sales amount of y-axis\n",
        "plt.bar(pro_categ,sales)\n",
        "\n",
        "# necessary command to display the created graph\n",
        "plt.show()"
      ]
    },
    {
      "cell_type": "code",
      "execution_count": null,
      "metadata": {
        "colab": {
          "base_uri": "https://localhost:8080/",
          "height": 265
        },
        "id": "2x1fgrgfmqy0",
        "outputId": "06f28fdd-15ed-49c7-bd44-f40df0065736"
      },
      "outputs": [
        {
          "output_type": "display_data",
          "data": {
            "image/png": "[encoded data removed]",
            "text/plain": [
              "<Figure size 432x288 with 1 Axes>"
            ]
          },
          "metadata": {
            "needs_background": "light"
          }
        }
      ],
      "source": [
        "\n",
        "## Make an array of how many chocolates you ate in the last five days and then make a bar graph of it.\n",
        "days= np.array([\"Mon\", \"Tue\", \"Wed\", \"Thur\", \"Fri\"])\n",
        "days\n",
        "number=np.array([5,6,3,7,1])\n",
        "number\n",
        "plt.bar(days,number)\n",
        "plt.show()"
      ]
    },
    {
      "cell_type": "code",
      "execution_count": null,
      "metadata": {
        "id": "6QpAqxdbmqy1"
      },
      "outputs": [],
      "source": [
        ""
      ]
    },
    {
      "cell_type": "markdown",
      "metadata": {
        "id": "-BspMmJYmqy2"
      },
      "source": [
        "#### Adding title and labeling axes in the graph"
      ]
    },
    {
      "cell_type": "code",
      "execution_count": null,
      "metadata": {
        "id": "mRFjD1vEmqy3",
        "outputId": "58615b8d-1e7e-46d9-8c3b-37f06602030c"
      },
      "outputs": [
        {
          "data": {
            "image/png": "[encoded data removed]",
            "text/plain": [
              "<Figure size 432x288 with 1 Axes>"
            ]
          },
          "metadata": {
            "needs_background": "light"
          },
          "output_type": "display_data"
        }
      ],
      "source": [
        "# plotting the bar graph with product categories on x-axis and sales amount of y-axis\n",
        "plt.bar(pro_categ,sales)\n",
        "\n",
        "\n",
        "# adding title to the graph\n",
        "plt.title(\"Sales across product categories\")\n",
        "\n",
        "# labeling axes\n",
        "plt.xlabel(\"Categories of product\")\n",
        "plt.ylabel(\"Sales\")\n",
        "\n",
        "# necessary command to display the created graph\n",
        "plt.show()"
      ]
    },
    {
      "cell_type": "markdown",
      "metadata": {
        "id": "yukczP-Gmqy4"
      },
      "source": [
        "#### Modifying the bars in the graph"
      ]
    },
    {
      "cell_type": "code",
      "execution_count": null,
      "metadata": {
        "id": "W25Sdlmbmqy5",
        "outputId": "f583fef8-ff00-4cea-899c-8e1e8c98e625"
      },
      "outputs": [
        {
          "data": {
            "text/plain": [
              "<BarContainer object of 3 artists>"
            ]
          },
          "execution_count": 24,
          "metadata": {},
          "output_type": "execute_result"
        },
        {
          "data": {
            "image/png": "[encoded data removed]",
            "text/plain": [
              "<Figure size 432x288 with 1 Axes>"
            ]
          },
          "metadata": {
            "needs_background": "light"
          },
          "output_type": "display_data"
        }
      ],
      "source": [
        "# changing color of the bars in the bar graph\n",
        "# plotting the bar graph with product categories on x-axis and sales amount of y-axis\n",
        "plt.bar(pro_categ,sales, width=0.5)\n",
        "#matplotlib.pyplot.bar(x, y, width = 0.8)\n",
        "\n",
        "# adding title to the graph\n",
        "plt.title(\"Sales bar plot\", fontdict={'fontsize':20,'fontweight':5,'color':'Green'})\n",
        "\n",
        "# labeling axes\n",
        "\n",
        "plt.xlabel(\"Categories of product\",fontdict={'fontsize':20,'fontweight':5,'color':'Green'})\n",
        "plt.ylabel(\"Sales\",fontdict={'fontsize':20,'fontweight':5,'color':'Green'})\n",
        "\n",
        "# necessary command to display the created graph\n",
        "#plt.show()\n",
        "\n",
        "## Giving separate values for each bar\n",
        "#‘color’.: \n",
        "plt.bar(pro_categ,sales, color = [\"red\", \"blue\", \"green\"])"
      ]
    },
    {
      "cell_type": "code",
      "source": [
        "Chocolates=np.array([\"Kitkat\", \"Dairymilk\", \"Tolberone\"])\n",
        "#Chocolates\n",
        "numbers=np.array([10,12,5])\n",
        "#numbers              \n",
        "plt.bar(Chocolates,numbers)\n",
        "plt.show()"
      ],
      "metadata": {
        "colab": {
          "base_uri": "https://localhost:8080/",
          "height": 265
        },
        "id": "k4FFZnF-q2gt",
        "outputId": "9b7e4dfb-2e8e-44ab-d717-77587f08b98a"
      },
      "execution_count": null,
      "outputs": [
        {
          "output_type": "display_data",
          "data": {
            "image/png": "[encoded data removed]",
            "text/plain": [
              "<Figure size 432x288 with 1 Axes>"
            ]
          },
          "metadata": {
            "needs_background": "light"
          }
        }
      ]
    },
    {
      "cell_type": "code",
      "source": [
        "#500,1000,1500,2000,2500,3000,3500\n",
        "\n",
        "np.arange(500,4000,500)\n"
      ],
      "metadata": {
        "colab": {
          "base_uri": "https://localhost:8080/"
        },
        "id": "8asdQD90rc8W",
        "outputId": "422d51cf-bbf9-456c-f6c5-b96cbd9b753e"
      },
      "execution_count": null,
      "outputs": [
        {
          "output_type": "execute_result",
          "data": {
            "text/plain": [
              "array([ 500, 1000, 1500, 2000, 2500, 3000, 3500])"
            ]
          },
          "metadata": {},
          "execution_count": 10
        }
      ]
    },
    {
      "cell_type": "markdown",
      "metadata": {
        "id": "zDrAQdrkmqy7"
      },
      "source": [
        "#### Adjusting tick values and the value labels"
      ]
    },
    {
      "cell_type": "code",
      "execution_count": null,
      "metadata": {
        "id": "RYlKPU_Lmqy8",
        "outputId": "b279436b-b1a5-42d0-b220-5c1e94e6d794"
      },
      "outputs": [
        {
          "data": {
            "image/png": "[encoded data removed]",
            "text/plain": [
              "<Figure size 432x288 with 1 Axes>"
            ]
          },
          "metadata": {
            "needs_background": "light"
          },
          "output_type": "display_data"
        }
      ],
      "source": [
        "\n",
        "\n",
        "# Modifying the ticks to show information in (lakhs)\n",
        "tick_values = np.arange(0,7000000,1000000)\n",
        "#tick_labels =[\"0L\",\"10L\",\"20L\",\"30L\",\"40L\",\"50L\",\"60L\",\"70L\"]\n",
        "\n",
        "tick_labels = [ str(i)+\"L\" for i in range(0,7)]\n",
        "#######################################################################-----------------------###\n",
        "plt.bar(pro_categ, sales, color=\"cyan\", edgecolor=\"purple\")\n",
        "\n",
        "\n",
        "#tick_labels = [str(i)+\"L\" for i in range(0,7)]\n",
        "#len(tick_values)\n",
        "\n",
        "#tv = [str(i)+\"L\" for i in range(0,8)]\n",
        "\n",
        "plt.yticks(tick_values, tick_labels)\n",
        "\n",
        "plt.show()\n",
        "# necessary command to display the created graph\n"
      ]
    },
    {
      "cell_type": "code",
      "source": [
        ""
      ],
      "metadata": {
        "id": "yF_ytzVWrbp1"
      },
      "execution_count": null,
      "outputs": []
    },
    {
      "cell_type": "code",
      "execution_count": null,
      "metadata": {
        "id": "VCmzQbv3mqy-",
        "outputId": "82280770-d0ad-4f6b-ba59-704935cad919"
      },
      "outputs": [
        {
          "data": {
            "text/plain": [
              "['0L', '1L', '2L', '3L', '4L', '5L', '6L']"
            ]
          },
          "execution_count": 27,
          "metadata": {},
          "output_type": "execute_result"
        }
      ],
      "source": [
        "tick_labels = [ str(i)+\"L\" for i in range(0,7)]\n",
        "tick_labels"
      ]
    },
    {
      "cell_type": "code",
      "execution_count": null,
      "metadata": {
        "id": "1Hcicv6Zmqy_",
        "outputId": "117c9f0f-4c84-4d29-a471-682a2e69c050"
      },
      "outputs": [
        {
          "data": {
            "image/png": "[encoded data removed]",
            "text/plain": [
              "<Figure size 432x288 with 1 Axes>"
            ]
          },
          "metadata": {
            "needs_background": "light"
          },
          "output_type": "display_data"
        }
      ],
      "source": [
        "plt.bar(pro_categ,sales, width=0.5)\n",
        "plt.show()\n"
      ]
    },
    {
      "cell_type": "code",
      "execution_count": null,
      "metadata": {
        "colab": {
          "base_uri": "https://localhost:8080/",
          "height": 309
        },
        "id": "8GV29oIpmqzA",
        "outputId": "d2af944e-06f1-400d-cb37-eab0f83a3d09"
      },
      "outputs": [
        {
          "output_type": "display_data",
          "data": {
            "image/png": "[encoded data removed]",
            "text/plain": [
              "<Figure size 432x288 with 1 Axes>"
            ]
          },
          "metadata": {
            "needs_background": "light"
          }
        }
      ],
      "source": [
        "## Student's code practice\n",
        "\n",
        "pro_categ = np.array([\"furniture\", \"Office supplies\",\"technology\"])\n",
        "pro_categ\n",
        "\n",
        "sales=np.array([4110451.90,4744557.50,3787492.52])\n",
        "sales\n",
        "\n",
        "plt.title(\"SALES ACROSS PRODUCT CATEGORIES\", fontdict={'fontsize':20,'fontweight':5,'color':\"cyan\"})\n",
        "plt.xlabel (\"PRODUCT\", fontdict={'fontsize':20,'fontweight':5,'color':\"cyan\"})\n",
        "plt.ylabel (\"SALES\", fontdict={'fontsize':20,'fontweight':5,'color':\"cyan\"})\n",
        "\n",
        "plt.bar(pro_categ, sales, width=0.5)\n",
        "\n",
        "plt.bar(pro_categ,sales, color=['yellow'])\n",
        "\n",
        "plt.show()"
      ]
    },
    {
      "cell_type": "code",
      "source": [
        ""
      ],
      "metadata": {
        "id": "vwJrANIg1hJg"
      },
      "execution_count": null,
      "outputs": []
    }
  ],
  "metadata": {
    "kernelspec": {
      "display_name": "Python 3",
      "language": "python",
      "name": "python3"
    },
    "language_info": {
      "codemirror_mode": {
        "name": "ipython",
        "version": 3
      },
      "file_extension": ".py",
      "mimetype": "text/x-python",
      "name": "python",
      "nbconvert_exporter": "python",
      "pygments_lexer": "ipython3",
      "version": "3.7.0"
    },
    "colab": {
      "name": "01_Bar_plot.ipynb",
      "provenance": []
    }
  },
  "nbformat": 4,
  "nbformat_minor": 0
}
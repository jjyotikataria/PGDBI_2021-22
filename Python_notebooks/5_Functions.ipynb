{
  "cells": [
    {
      "cell_type": "markdown",
      "metadata": {
        "id": "pH9XHyqMCm90"
      },
      "source": [
        "# Problem : Create a function that takes two numbers as argument and returns the greater of the two."
      ]
    },
    {
      "cell_type": "code",
      "execution_count": null,
      "metadata": {
        "id": "wlcJgiT_Cm95"
      },
      "outputs": [],
      "source": [
        "def compare(a,b):\n",
        "    if(a>b):\n",
        "        greater = a\n",
        "    else:\n",
        "        greater = b\n",
        "    \n",
        "    return greater"
      ]
    },
    {
      "cell_type": "code",
      "execution_count": null,
      "metadata": {
        "colab": {
          "base_uri": "https://localhost:8080/"
        },
        "id": "FiEjB7DKCm97",
        "outputId": "75b7f953-a990-427b-d701-96a46a072fc4"
      },
      "outputs": [
        {
          "output_type": "execute_result",
          "data": {
            "text/plain": [
              "50"
            ]
          },
          "metadata": {},
          "execution_count": 4
        }
      ],
      "source": [
        "compare(10,50)"
      ]
    },
    {
      "cell_type": "code",
      "execution_count": null,
      "metadata": {
        "id": "znsSZNrMCm9_",
        "outputId": "0c8bae1a-72ef-44c9-ef00-ddb24a72624c"
      },
      "outputs": [
        {
          "data": {
            "text/plain": [
              "14"
            ]
          },
          "execution_count": 3,
          "metadata": {},
          "output_type": "execute_result"
        }
      ],
      "source": [
        "compare(14,5)"
      ]
    },
    {
      "cell_type": "code",
      "execution_count": null,
      "metadata": {
        "id": "fPO3H5k2Cm-B",
        "outputId": "6f6bfb6b-36a9-475e-87fa-598f1dddbab7"
      },
      "outputs": [
        {
          "data": {
            "text/plain": [
              "500"
            ]
          },
          "execution_count": 3,
          "metadata": {},
          "output_type": "execute_result"
        }
      ],
      "source": [
        "compare(109,500)        "
      ]
    },
    {
      "cell_type": "code",
      "execution_count": null,
      "metadata": {
        "id": "DFDT70s9Cm-D"
      },
      "outputs": [],
      "source": [
        "## Perimeter\n",
        "\n",
        "def circle_area(radius):\n",
        "    area = 2*3.14*radius\n",
        "    return perimeter\n",
        "\n"
      ]
    },
    {
      "cell_type": "code",
      "source": [
        "circle_area(3)"
      ],
      "metadata": {
        "colab": {
          "base_uri": "https://localhost:8080/"
        },
        "id": "WVM23MrhEYBA",
        "outputId": "68396249-0ecf-4c65-c39c-46915b1ab7b2"
      },
      "execution_count": null,
      "outputs": [
        {
          "output_type": "execute_result",
          "data": {
            "text/plain": [
              "9.42"
            ]
          },
          "metadata": {},
          "execution_count": 8
        }
      ]
    },
    {
      "cell_type": "code",
      "execution_count": null,
      "metadata": {
        "id": "Vaucnu4jCm-F"
      },
      "outputs": [],
      "source": [
        "def Area(r):\n",
        "    area = 3.14*r*r\n",
        "    return area"
      ]
    },
    {
      "cell_type": "code",
      "execution_count": null,
      "metadata": {
        "id": "OoKR9PJgCm-H",
        "outputId": "e8d540c1-b209-4a69-b190-8ac647df42cb"
      },
      "outputs": [
        {
          "data": {
            "text/plain": [
              "379.94"
            ]
          },
          "execution_count": 5,
          "metadata": {},
          "output_type": "execute_result"
        }
      ],
      "source": [
        "Area(11)"
      ]
    },
    {
      "cell_type": "code",
      "execution_count": null,
      "metadata": {
        "id": "N8112_0kCm-I"
      },
      "outputs": [],
      "source": [
        "def compare (a,b):\n",
        "  if(a>b):\n",
        "    greater = a\n",
        "  else: \n",
        "    greater = b\n",
        "  return greater\n",
        "#compare (50,15)"
      ]
    },
    {
      "cell_type": "code",
      "source": [
        "compare (50,15)\n",
        "\n"
      ],
      "metadata": {
        "colab": {
          "base_uri": "https://localhost:8080/"
        },
        "id": "Hd39p72ZFJr5",
        "outputId": "7f94e48b-78ed-4142-cc8f-a6303ae045c4"
      },
      "execution_count": null,
      "outputs": [
        {
          "output_type": "execute_result",
          "data": {
            "text/plain": [
              "50"
            ]
          },
          "metadata": {},
          "execution_count": 12
        }
      ]
    },
    {
      "cell_type": "code",
      "source": [
        "def compare(a,b):\n",
        "    if(a>b):\n",
        "        greater = a\n",
        "    else:\n",
        "        greater = b\n",
        "    return greater\n",
        "\n",
        "compare(12,50)"
      ],
      "metadata": {
        "colab": {
          "base_uri": "https://localhost:8080/"
        },
        "id": "FNzCDVLoFPrZ",
        "outputId": "ed55362d-ac8f-4a88-aa05-ccd338213756"
      },
      "execution_count": null,
      "outputs": [
        {
          "output_type": "execute_result",
          "data": {
            "text/plain": [
              "50"
            ]
          },
          "metadata": {},
          "execution_count": 14
        }
      ]
    },
    {
      "cell_type": "code",
      "source": [
        ""
      ],
      "metadata": {
        "id": "ekejGproFvTE"
      },
      "execution_count": null,
      "outputs": []
    }
  ],
  "metadata": {
    "kernelspec": {
      "display_name": "Python 3",
      "language": "python",
      "name": "python3"
    },
    "language_info": {
      "codemirror_mode": {
        "name": "ipython",
        "version": 3
      },
      "file_extension": ".py",
      "mimetype": "text/x-python",
      "name": "python",
      "nbconvert_exporter": "python",
      "pygments_lexer": "ipython3",
      "version": "3.7.0"
    },
    "colab": {
      "name": "5_Functions.ipynb",
      "provenance": []
    }
  },
  "nbformat": 4,
  "nbformat_minor": 0
}